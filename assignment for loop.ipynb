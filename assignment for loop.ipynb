{
 "cells": [
  {
   "cell_type": "markdown",
   "id": "f49db533",
   "metadata": {},
   "source": [
    "# Question 3: Print Multiplication Table Write a program that takes an integer as input and prints its multiplication table up to 10."
   ]
  },
  {
   "cell_type": "code",
   "execution_count": null,
   "id": "9ecd2e23",
   "metadata": {},
   "outputs": [],
   "source": [
    "number = int(input(\"enter any number: \"))"
   ]
  },
  {
   "cell_type": "code",
   "execution_count": 4,
   "id": "60f950f7",
   "metadata": {},
   "outputs": [
    {
     "name": "stdout",
     "output_type": "stream",
     "text": [
      "3876486×1=3876486\n",
      "3876486×2=7752972\n",
      "3876486×3=11629458\n",
      "3876486×4=15505944\n",
      "3876486×5=19382430\n",
      "3876486×6=23258916\n",
      "3876486×7=27135402\n",
      "3876486×8=31011888\n",
      "3876486×9=34888374\n",
      "3876486×10=38764860\n"
     ]
    }
   ],
   "source": [
    "for i in range(1,11):\n",
    "    print(f\"{number}×{i}={number*i}\")"
   ]
  },
  {
   "cell_type": "markdown",
   "id": "1bac0614",
   "metadata": {},
   "source": [
    "# Question 1: Print Even Numbers Write a program that prints all even numbers between 1 and 20."
   ]
  },
  {
   "cell_type": "code",
   "execution_count": 12,
   "id": "316ae13e",
   "metadata": {},
   "outputs": [
    {
     "name": "stdout",
     "output_type": "stream",
     "text": [
      "2\n",
      "4\n",
      "6\n",
      "8\n",
      "10\n",
      "12\n",
      "14\n",
      "16\n",
      "18\n",
      "20\n",
      "22\n",
      "24\n",
      "26\n",
      "28\n",
      "30\n",
      "32\n",
      "34\n",
      "36\n",
      "38\n",
      "40\n",
      "42\n",
      "44\n",
      "46\n",
      "48\n",
      "50\n",
      "52\n",
      "54\n",
      "56\n",
      "58\n",
      "60\n",
      "62\n",
      "64\n",
      "66\n",
      "68\n",
      "70\n",
      "72\n",
      "74\n",
      "76\n",
      "78\n",
      "80\n",
      "82\n",
      "84\n",
      "86\n",
      "88\n",
      "90\n",
      "92\n",
      "94\n",
      "96\n",
      "98\n",
      "100\n"
     ]
    }
   ],
   "source": [
    "i = 1\n",
    "\n",
    "while i<=100:\n",
    "    if i%2==0:\n",
    "         print(i)\n",
    "    \n",
    "    i+=1"
   ]
  },
  {
   "cell_type": "code",
   "execution_count": null,
   "id": "90e0ffc7",
   "metadata": {},
   "outputs": [],
   "source": []
  },
  {
   "cell_type": "markdown",
   "id": "ea34cfff",
   "metadata": {},
   "source": [
    "# Question no.4 Calculate Sum of Digits Write a program that calculates the sum of the digits of a given number."
   ]
  },
  {
   "cell_type": "code",
   "execution_count": 1,
   "id": "fe825d88",
   "metadata": {},
   "outputs": [
    {
     "name": "stdout",
     "output_type": "stream",
     "text": [
      "enter any number2000\n"
     ]
    }
   ],
   "source": [
    "num = input(\"enter any number\")"
   ]
  },
  {
   "cell_type": "code",
   "execution_count": 4,
   "id": "631afd71",
   "metadata": {},
   "outputs": [
    {
     "ename": "NameError",
     "evalue": "name 'o' is not defined",
     "output_type": "error",
     "traceback": [
      "\u001b[1;31m---------------------------------------------------------------------------\u001b[0m",
      "\u001b[1;31mNameError\u001b[0m                                 Traceback (most recent call last)",
      "Cell \u001b[1;32mIn[4], line 1\u001b[0m\n\u001b[1;32m----> 1\u001b[0m sum_of_digits \u001b[38;5;241m=\u001b[39m o\n\u001b[0;32m      2\u001b[0m \u001b[38;5;28;01mfor\u001b[39;00m i \u001b[38;5;129;01min\u001b[39;00m \u001b[38;5;28mrange\u001b[39m(\u001b[38;5;241m0\u001b[39m,\u001b[38;5;28mlen\u001b[39m(num)):\n\u001b[0;32m      3\u001b[0m           sum_of_digits\u001b[38;5;241m=\u001b[39m sum_of_digits\u001b[38;5;241m+\u001b[39mi\n",
      "\u001b[1;31mNameError\u001b[0m: name 'o' is not defined"
     ]
    }
   ],
   "source": [
    "sum_of_digits = o\n",
    "for i in range(0,len(num)):\n",
    "          sum_of_digits= sum_of_digits+i\n",
    "          print(sum_of_digits)\n",
    "\n",
    "\n",
    "    "
   ]
  },
  {
   "cell_type": "markdown",
   "id": "e1dfce9a",
   "metadata": {},
   "source": [
    "# Question 5: Calculate Fibonacci Series Write a program that generates the Fibonacci series up to a given number of terms."
   ]
  },
  {
   "cell_type": "code",
   "execution_count": 5,
   "id": "8b6d673c",
   "metadata": {},
   "outputs": [
    {
     "name": "stdout",
     "output_type": "stream",
     "text": [
      "0\n",
      "1\n",
      "1\n",
      "2\n",
      "3\n",
      "5\n",
      "8\n",
      "13\n",
      "21\n",
      "34\n"
     ]
    }
   ],
   "source": [
    "n = 10\n",
    "n1 = 0 \n",
    "n2 = 1\n",
    "for i in range(10):\n",
    "    print(n1)\n",
    "    nth = n1+n2\n",
    "    n1=n2\n",
    "    n2=nth"
   ]
  },
  {
   "cell_type": "code",
   "execution_count": null,
   "id": "e5846b43",
   "metadata": {},
   "outputs": [],
   "source": []
  }
 ],
 "metadata": {
  "kernelspec": {
   "display_name": "Python 3 (ipykernel)",
   "language": "python",
   "name": "python3"
  },
  "language_info": {
   "codemirror_mode": {
    "name": "ipython",
    "version": 3
   },
   "file_extension": ".py",
   "mimetype": "text/x-python",
   "name": "python",
   "nbconvert_exporter": "python",
   "pygments_lexer": "ipython3",
   "version": "3.11.5"
  }
 },
 "nbformat": 4,
 "nbformat_minor": 5
}
